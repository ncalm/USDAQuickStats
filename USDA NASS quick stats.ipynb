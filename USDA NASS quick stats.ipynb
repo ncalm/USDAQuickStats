{
 "cells": [
  {
   "cell_type": "code",
   "execution_count": 1,
   "metadata": {
    "collapsed": false
   },
   "outputs": [],
   "source": [
    "from IPython.display import display\n",
    "import usdaquickstats\n",
    "import pandas as pd\n",
    "import numpy as np\n",
    "import io\n",
    "import os"
   ]
  },
  {
   "cell_type": "markdown",
   "metadata": {},
   "source": [
    "First we grab some data from the API using the usdaquickstats.py module"
   ]
  },
  {
   "cell_type": "code",
   "execution_count": 2,
   "metadata": {
    "collapsed": false
   },
   "outputs": [
    {
     "name": "stdout",
     "output_type": "stream",
     "text": [
      "Got 10222 records.\n"
     ]
    }
   ],
   "source": [
    "u = usdaquickstats.USDAQuickStats()\n",
    "u.getparams[\"year\"] = 2012\n",
    "u.getparams[\"state_alpha\"] = (\"MO\",\"TX\")\n",
    "u.getparams[\"commodity_desc\"] = \"CORN\"\n",
    "u.get()"
   ]
  },
  {
   "cell_type": "code",
   "execution_count": 3,
   "metadata": {
    "collapsed": false
   },
   "outputs": [],
   "source": [
    "pd.set_option('display.max_row',100) #set the default number of rows to display when printing the df\n",
    "pd.set_option('display.max_columns',50) #set the default max number of columns to display when printing the df\n",
    "df = pd.read_csv(io.StringIO(u.response.content.decode('utf-8')))"
   ]
  },
  {
   "cell_type": "markdown",
   "metadata": {},
   "source": [
    "Next we'll try summarizing some data in a pandas dataframe\n",
    "\n",
    "http://bconnelly.net/2013/10/summarizing-data-in-python-with-pandas/\n",
    "\n",
    "Let's first take a look at the columns and data types in the data frame."
   ]
  },
  {
   "cell_type": "markdown",
   "metadata": {},
   "source": [
    "Now we can create a groupbyobject and produce some summaries for those groups.\n",
    "\n",
    "First we need to create a numeric version of the Value field since the original field contains string values for the suppressed cells i.e. (D). Because the original column is an 'object' (string) data type, values that included commas for the million and thousand delimiters are stored as, for example, \"1,000\" instead of \"1000\". \n",
    "\n",
    "So we use coerce to convert values to numbers when possible."
   ]
  },
  {
   "cell_type": "code",
   "execution_count": 4,
   "metadata": {
    "collapsed": false
   },
   "outputs": [],
   "source": [
    "df['ValueNum'] = pd.to_numeric(df['Value'].str.replace(\",\",\"\"),errors='coerce')\n",
    "\n",
    "groups = df[df.short_desc.str.contains('OPERATIONS')].groupby(['state_alpha','short_desc'])\n",
    "\n",
    "pd.set_option('display.float_format',lambda x: '%.3f' % x)\n",
    "\n",
    "dfg = groups['ValueNum'].aggregate([np.mean,np.sum,np.count_nonzero])"
   ]
  },
  {
   "cell_type": "markdown",
   "metadata": {},
   "source": [
    "If we want to see the distinct values in a column, we use df.col_name.unique() (so easy!)"
   ]
  },
  {
   "cell_type": "markdown",
   "metadata": {},
   "source": [
    "Now I want to get the rows from the dataframe where the county_name is NaN... I suspect these are sub-totals at\n",
    "at state or some other non-county level."
   ]
  },
  {
   "cell_type": "code",
   "execution_count": 5,
   "metadata": {
    "collapsed": false
   },
   "outputs": [],
   "source": [
    "dfcounty = df[pd.notnull(df.county_name)]\n",
    "dfharv = dfcounty[dfcounty.short_desc.str.contains('ACRES HARVESTED')]"
   ]
  },
  {
   "cell_type": "code",
   "execution_count": 6,
   "metadata": {
    "collapsed": false
   },
   "outputs": [],
   "source": [
    "import plotly\n",
    "import plotly.plotly as py\n",
    "import plotly.graph_objs as go"
   ]
  },
  {
   "cell_type": "code",
   "execution_count": 7,
   "metadata": {
    "collapsed": false
   },
   "outputs": [],
   "source": [
    "# groups = dfharv[dfharv.state_alpha=='MO'].groupby('short_desc')\n",
    "# moharv = groups['ValueNum'].aggregate([np.sum])\n",
    "\n",
    "# groups = dfharv[dfharv.state_alpha=='TX'].groupby('short_desc')\n",
    "# txharv = groups['ValueNum'].aggregate([np.sum])\n",
    "\n",
    "# modat = go.Bar(x=moharv.index,y=moharv['sum'],name='Missouri')\n",
    "# txdat = go.Bar(x=txharv.index,y=txharv['sum'],name='Texas')\n",
    "\n",
    "# gdat = [modat, txdat]\n",
    "# layout = go.Layout(\n",
    "#     barmode='group'\n",
    "# )\n",
    "\n",
    "# py.iplot(gdat,filename = 'pandas-bar-chart')"
   ]
  },
  {
   "cell_type": "code",
   "execution_count": 8,
   "metadata": {
    "collapsed": false
   },
   "outputs": [
    {
     "data": {
      "text/plain": [
       "5"
      ]
     },
     "execution_count": 8,
     "metadata": {},
     "output_type": "execute_result"
    }
   ],
   "source": [
    "df.index[5]"
   ]
  },
  {
   "cell_type": "code",
   "execution_count": 12,
   "metadata": {
    "collapsed": false
   },
   "outputs": [
    {
     "data": {
      "text/plain": [
       "MultiIndex(levels=[['MO', 'TX'], ['CORN, GRAIN - ACRES HARVESTED', 'CORN, GRAIN, IRRIGATED - ACRES HARVESTED', 'CORN, GRAIN, NON-IRRIGATED - ACRES HARVESTED', 'CORN, SILAGE - ACRES HARVESTED', 'CORN, SILAGE, IRRIGATED - ACRES HARVESTED']],\n",
       "           labels=[[0, 0, 0, 0, 1, 1, 1, 1, 1], [0, 1, 3, 4, 0, 1, 2, 3, 4]],\n",
       "           names=['state_alpha', 'short_desc'])"
      ]
     },
     "metadata": {},
     "output_type": "display_data"
    },
    {
     "data": {
      "text/plain": [
       "FrozenList(['state_alpha', 'short_desc'])"
      ]
     },
     "metadata": {},
     "output_type": "display_data"
    },
    {
     "data": {
      "text/plain": [
       "Index(['MO', 'MO', 'MO', 'MO', 'TX', 'TX', 'TX', 'TX', 'TX'], dtype='object', name='state_alpha')"
      ]
     },
     "metadata": {},
     "output_type": "display_data"
    },
    {
     "data": {
      "text/plain": [
       "Index(['CORN, GRAIN - ACRES HARVESTED',\n",
       "       'CORN, GRAIN, IRRIGATED - ACRES HARVESTED',\n",
       "       'CORN, SILAGE - ACRES HARVESTED',\n",
       "       'CORN, SILAGE, IRRIGATED - ACRES HARVESTED',\n",
       "       'CORN, GRAIN - ACRES HARVESTED',\n",
       "       'CORN, GRAIN, IRRIGATED - ACRES HARVESTED',\n",
       "       'CORN, GRAIN, NON-IRRIGATED - ACRES HARVESTED',\n",
       "       'CORN, SILAGE - ACRES HARVESTED',\n",
       "       'CORN, SILAGE, IRRIGATED - ACRES HARVESTED'],\n",
       "      dtype='object', name='short_desc')"
      ]
     },
     "metadata": {},
     "output_type": "display_data"
    },
    {
     "ename": "TypeError",
     "evalue": "cannot perform any with this index type: <class 'pandas.indexes.multi.MultiIndex'>",
     "output_type": "error",
     "traceback": [
      "\u001b[0;31m---------------------------------------------------------------------------\u001b[0m",
      "\u001b[0;31mTypeError\u001b[0m                                 Traceback (most recent call last)",
      "\u001b[0;32m<ipython-input-12-172033a1ad91>\u001b[0m in \u001b[0;36m<module>\u001b[0;34m()\u001b[0m\n\u001b[1;32m     23\u001b[0m \u001b[0mdisplay\u001b[0m\u001b[0;34m(\u001b[0m\u001b[0msumgbo\u001b[0m\u001b[0;34m.\u001b[0m\u001b[0mindex\u001b[0m\u001b[0;34m.\u001b[0m\u001b[0mget_level_values\u001b[0m\u001b[0;34m(\u001b[0m\u001b[0;36m0\u001b[0m\u001b[0;34m)\u001b[0m\u001b[0;34m)\u001b[0m\u001b[0;34m\u001b[0m\u001b[0m\n\u001b[1;32m     24\u001b[0m \u001b[0mdisplay\u001b[0m\u001b[0;34m(\u001b[0m\u001b[0msumgbo\u001b[0m\u001b[0;34m.\u001b[0m\u001b[0mindex\u001b[0m\u001b[0;34m.\u001b[0m\u001b[0mget_level_values\u001b[0m\u001b[0;34m(\u001b[0m\u001b[0;36m1\u001b[0m\u001b[0;34m)\u001b[0m\u001b[0;34m)\u001b[0m\u001b[0;34m\u001b[0m\u001b[0m\n\u001b[0;32m---> 25\u001b[0;31m \u001b[0mdisplay\u001b[0m\u001b[0;34m(\u001b[0m\u001b[0msumgbo\u001b[0m\u001b[0;34m.\u001b[0m\u001b[0mindex\u001b[0m\u001b[0;34m.\u001b[0m\u001b[0many\u001b[0m\u001b[0;34m(\u001b[0m\u001b[0;34m'MO'\u001b[0m\u001b[0;34m)\u001b[0m\u001b[0;34m)\u001b[0m\u001b[0;34m\u001b[0m\u001b[0m\n\u001b[0m\u001b[1;32m     26\u001b[0m \u001b[0;31m# display(sumgbo[0,1])\u001b[0m\u001b[0;34m\u001b[0m\u001b[0;34m\u001b[0m\u001b[0m\n\u001b[1;32m     27\u001b[0m \u001b[0;34m\u001b[0m\u001b[0m\n",
      "\u001b[0;32m/home/owen/anaconda3/lib/python3.6/site-packages/pandas/indexes/base.py\u001b[0m in \u001b[0;36minvalid_op\u001b[0;34m(self, other)\u001b[0m\n\u001b[1;32m   3621\u001b[0m             \u001b[0;32mdef\u001b[0m \u001b[0minvalid_op\u001b[0m\u001b[0;34m(\u001b[0m\u001b[0mself\u001b[0m\u001b[0;34m,\u001b[0m \u001b[0mother\u001b[0m\u001b[0;34m=\u001b[0m\u001b[0;32mNone\u001b[0m\u001b[0;34m)\u001b[0m\u001b[0;34m:\u001b[0m\u001b[0;34m\u001b[0m\u001b[0m\n\u001b[1;32m   3622\u001b[0m                 raise TypeError(\"cannot perform {name} with this index type: \"\n\u001b[0;32m-> 3623\u001b[0;31m                                 \"{typ}\".format(name=name, typ=type(self)))\n\u001b[0m\u001b[1;32m   3624\u001b[0m \u001b[0;34m\u001b[0m\u001b[0m\n\u001b[1;32m   3625\u001b[0m             \u001b[0minvalid_op\u001b[0m\u001b[0;34m.\u001b[0m\u001b[0m__name__\u001b[0m \u001b[0;34m=\u001b[0m \u001b[0mname\u001b[0m\u001b[0;34m\u001b[0m\u001b[0m\n",
      "\u001b[0;31mTypeError\u001b[0m: cannot perform any with this index type: <class 'pandas.indexes.multi.MultiIndex'>"
     ]
    }
   ],
   "source": [
    "# create a DataFrameGroupBy object\n",
    "gbo = dfharv.groupby(['state_alpha','short_desc'])\n",
    "\n",
    "# gbo.get_group(('MO','CORN'))\n",
    "\n",
    "# we can group a groupby object if using a multi-index (i.e. more than one grouping column, as above)\n",
    "# stategbo = dfharv.groupby(level=\"0\")\n",
    "# or\n",
    "# stategbo = gbo.groupby('state_alpha')\n",
    "# display(stategbo)\n",
    "\n",
    "# # this is a series object\n",
    "# sgbo = gbo['ValueNum'].sum()\n",
    "# display(sgbo)\n",
    "# # type(sgbo)\n",
    "\n",
    "# # using .aggregate returns a dataframe ¯\\_(ツ)_/¯\n",
    "sumgbo = gbo['ValueNum'].aggregate([np.sum])\n",
    "# display(sumgbo)\n",
    "display(sumgbo.index)\n",
    "display(sumgbo.index.names)\n",
    "# display(sumgbo.index.get_level_values)\n",
    "display(sumgbo.index.get_level_values(0))\n",
    "display(sumgbo.index.get_level_values(1))\n",
    "display(sumgbo.index.any('MO'))\n",
    "# display(sumgbo[0,1])\n",
    "\n",
    "\n",
    "# sumgbo.groupby(level=0).sum()\n",
    "# harv = groups['ValueNum'].aggregate([np.sum])\n",
    "# harv.filter['state_alpha=''MO''']\n",
    "#harv['MO']\n",
    "#modat = go.Bar(x=moharv.index,y=moharv['sum'],name='Missouri')\n",
    "#txdat = go.Bar(x=txharv.index,y=txharv['sum'],name='Texas')\n",
    "\n",
    "#gdat = [modat, txdat]\n",
    "#layout = go.Layout(\n",
    "#    barmode='group'\n",
    "#)\n",
    "\n",
    "#py.iplot(gdat,filename = 'pandas-bar-chart')"
   ]
  },
  {
   "cell_type": "code",
   "execution_count": 14,
   "metadata": {
    "collapsed": false
   },
   "outputs": [
    {
     "data": {
      "text/plain": [
       "pandas.core.frame.DataFrame"
      ]
     },
     "execution_count": 14,
     "metadata": {},
     "output_type": "execute_result"
    }
   ],
   "source": [
    "type(sumgbo)"
   ]
  },
  {
   "cell_type": "code",
   "execution_count": 17,
   "metadata": {
    "collapsed": false
   },
   "outputs": [
    {
     "data": {
      "text/html": [
       "<iframe id=\"igraph\" scrolling=\"no\" style=\"border:none;\" seamless=\"seamless\" src=\"https://plot.ly/~ncalm/2.embed\" height=\"525px\" width=\"100%\"></iframe>"
      ],
      "text/plain": [
       "<plotly.tools.PlotlyDisplay object>"
      ]
     },
     "execution_count": 17,
     "metadata": {},
     "output_type": "execute_result"
    }
   ],
   "source": [
    "import cufflinks as cf\n",
    "sumgbo.iplot(kind='bar', filename='clustered bar')"
   ]
  }
 ],
 "metadata": {
  "kernelspec": {
   "display_name": "Python 3",
   "language": "python",
   "name": "python3"
  },
  "language_info": {
   "codemirror_mode": {
    "name": "ipython",
    "version": 3
   },
   "file_extension": ".py",
   "mimetype": "text/x-python",
   "name": "python",
   "nbconvert_exporter": "python",
   "pygments_lexer": "ipython3",
   "version": "3.6.0"
  }
 },
 "nbformat": 4,
 "nbformat_minor": 2
}
